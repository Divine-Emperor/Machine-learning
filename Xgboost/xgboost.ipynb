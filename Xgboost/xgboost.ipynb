{
 "cells": [
  {
   "cell_type": "code",
   "execution_count": 1,
   "id": "8a9eaf84",
   "metadata": {},
   "outputs": [
    {
     "name": "stdout",
     "output_type": "stream",
     "text": [
      "               Model  Accuracy  Training Time (seconds)\n",
      "0  Gradient Boosting   0.95614                 0.474922\n",
      "1            XGBoost   0.95614                 0.175432\n"
     ]
    },
    {
     "name": "stderr",
     "output_type": "stream",
     "text": [
      "/home/harsh/.local/lib/python3.12/site-packages/xgboost/training.py:183: UserWarning: [22:14:46] WARNING: /workspace/src/learner.cc:738: \n",
      "Parameters: { \"use_label_encoder\" } are not used.\n",
      "\n",
      "  bst.update(dtrain, iteration=i, fobj=obj)\n"
     ]
    }
   ],
   "source": [
    "import time\n",
    "import numpy as np\n",
    "import pandas as pd\n",
    "from sklearn.datasets import load_breast_cancer\n",
    "from sklearn.model_selection import train_test_split\n",
    "from sklearn.metrics import accuracy_score\n",
    "from sklearn.ensemble import GradientBoostingClassifier\n",
    "from xgboost import XGBClassifier\n",
    "\n",
    "# Load dataset\n",
    "data = load_breast_cancer()\n",
    "X = data.data\n",
    "y = data.target\n",
    "\n",
    "# Split data\n",
    "X_train, X_test, y_train, y_test = train_test_split(X, y, test_size=0.2, random_state=42)\n",
    "\n",
    "# =======================\n",
    "# 1. Gradient Boosting\n",
    "# =======================\n",
    "start_gb = time.time()\n",
    "gb_model = GradientBoostingClassifier(n_estimators=100, learning_rate=0.1, max_depth=3, random_state=42)\n",
    "gb_model.fit(X_train, y_train)\n",
    "end_gb = time.time()\n",
    "\n",
    "gb_preds = gb_model.predict(X_test)\n",
    "gb_acc = accuracy_score(y_test, gb_preds)\n",
    "gb_time = end_gb - start_gb\n",
    "\n",
    "# =======================\n",
    "# 2. XGBoost\n",
    "# =======================\n",
    "start_xgb = time.time()\n",
    "xgb_model = XGBClassifier(n_estimators=100, learning_rate=0.1, max_depth=3, use_label_encoder=False, eval_metric='logloss', random_state=42)\n",
    "xgb_model.fit(X_train, y_train)\n",
    "end_xgb = time.time()\n",
    "\n",
    "xgb_preds = xgb_model.predict(X_test)\n",
    "xgb_acc = accuracy_score(y_test, xgb_preds)\n",
    "xgb_time = end_xgb - start_xgb\n",
    "\n",
    "# =======================\n",
    "# Results\n",
    "# =======================\n",
    "results = pd.DataFrame({\n",
    "    'Model': ['Gradient Boosting', 'XGBoost'],\n",
    "    'Accuracy': [gb_acc, xgb_acc],\n",
    "    'Training Time (seconds)': [gb_time, xgb_time]\n",
    "})\n",
    "\n",
    "print(results)"
   ]
  },
  {
   "cell_type": "code",
   "execution_count": null,
   "id": "654e9727",
   "metadata": {},
   "outputs": [],
   "source": []
  }
 ],
 "metadata": {
  "kernelspec": {
   "display_name": "Python 3",
   "language": "python",
   "name": "python3"
  },
  "language_info": {
   "codemirror_mode": {
    "name": "ipython",
    "version": 3
   },
   "file_extension": ".py",
   "mimetype": "text/x-python",
   "name": "python",
   "nbconvert_exporter": "python",
   "pygments_lexer": "ipython3",
   "version": "3.12.3"
  }
 },
 "nbformat": 4,
 "nbformat_minor": 5
}
